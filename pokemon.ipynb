{
 "cells": [
  {
   "cell_type": "code",
   "execution_count": 1,
   "metadata": {
    "collapsed": true
   },
   "outputs": [],
   "source": [
    "# Dependencies\n",
    "import pandas as pd"
   ]
  },
  {
   "cell_type": "code",
   "execution_count": 6,
   "metadata": {
    "collapsed": true
   },
   "outputs": [],
   "source": [
    "# Save file path to variable\n",
    "#or file= \"Resources/Pokemon.csv\" \n",
    "csv_path = \"Resources/Pokemon.csv\"\n"
   ]
  },
  {
   "cell_type": "code",
   "execution_count": 7,
   "metadata": {
    "collapsed": true
   },
   "outputs": [
    {
     "output_type": "execute_result",
     "data": {
      "text/plain": [
       "   #                   Name Type 1  Type 2  Total  HP  Attack  Defense  \\\n",
       "0  1              Bulbasaur  Grass  Poison    318  45      49       49   \n",
       "1  2                Ivysaur  Grass  Poison    405  60      62       63   \n",
       "2  3               Venusaur  Grass  Poison    525  80      82       83   \n",
       "3  3  VenusaurMega Venusaur  Grass  Poison    625  80     100      123   \n",
       "4  4             Charmander   Fire     NaN    309  39      52       43   \n",
       "\n",
       "   Sp. Atk  Sp. Def  Speed  Generation  Legendary  \n",
       "0       65       65     45           1      False  \n",
       "1       80       80     60           1      False  \n",
       "2      100      100     80           1      False  \n",
       "3      122      120     80           1      False  \n",
       "4       60       50     65           1      False  "
      ],
      "text/html": "<div>\n<style scoped>\n    .dataframe tbody tr th:only-of-type {\n        vertical-align: middle;\n    }\n\n    .dataframe tbody tr th {\n        vertical-align: top;\n    }\n\n    .dataframe thead th {\n        text-align: right;\n    }\n</style>\n<table border=\"1\" class=\"dataframe\">\n  <thead>\n    <tr style=\"text-align: right;\">\n      <th></th>\n      <th>#</th>\n      <th>Name</th>\n      <th>Type 1</th>\n      <th>Type 2</th>\n      <th>Total</th>\n      <th>HP</th>\n      <th>Attack</th>\n      <th>Defense</th>\n      <th>Sp. Atk</th>\n      <th>Sp. Def</th>\n      <th>Speed</th>\n      <th>Generation</th>\n      <th>Legendary</th>\n    </tr>\n  </thead>\n  <tbody>\n    <tr>\n      <th>0</th>\n      <td>1</td>\n      <td>Bulbasaur</td>\n      <td>Grass</td>\n      <td>Poison</td>\n      <td>318</td>\n      <td>45</td>\n      <td>49</td>\n      <td>49</td>\n      <td>65</td>\n      <td>65</td>\n      <td>45</td>\n      <td>1</td>\n      <td>False</td>\n    </tr>\n    <tr>\n      <th>1</th>\n      <td>2</td>\n      <td>Ivysaur</td>\n      <td>Grass</td>\n      <td>Poison</td>\n      <td>405</td>\n      <td>60</td>\n      <td>62</td>\n      <td>63</td>\n      <td>80</td>\n      <td>80</td>\n      <td>60</td>\n      <td>1</td>\n      <td>False</td>\n    </tr>\n    <tr>\n      <th>2</th>\n      <td>3</td>\n      <td>Venusaur</td>\n      <td>Grass</td>\n      <td>Poison</td>\n      <td>525</td>\n      <td>80</td>\n      <td>82</td>\n      <td>83</td>\n      <td>100</td>\n      <td>100</td>\n      <td>80</td>\n      <td>1</td>\n      <td>False</td>\n    </tr>\n    <tr>\n      <th>3</th>\n      <td>3</td>\n      <td>VenusaurMega Venusaur</td>\n      <td>Grass</td>\n      <td>Poison</td>\n      <td>625</td>\n      <td>80</td>\n      <td>100</td>\n      <td>123</td>\n      <td>122</td>\n      <td>120</td>\n      <td>80</td>\n      <td>1</td>\n      <td>False</td>\n    </tr>\n    <tr>\n      <th>4</th>\n      <td>4</td>\n      <td>Charmander</td>\n      <td>Fire</td>\n      <td>NaN</td>\n      <td>309</td>\n      <td>39</td>\n      <td>52</td>\n      <td>43</td>\n      <td>60</td>\n      <td>50</td>\n      <td>65</td>\n      <td>1</td>\n      <td>False</td>\n    </tr>\n  </tbody>\n</table>\n</div>"
     },
     "metadata": {},
     "execution_count": 7
    }
   ],
   "source": [
    "# Read with Pandas\n",
    "poke_df = pd.read_csv(csv_path)\n",
    "poke_df.head()"
   ]
  },
  {
   "cell_type": "code",
   "execution_count": 16,
   "metadata": {
    "collapsed": true
   },
   "outputs": [],
   "source": [
    "# Extract the following columns: \"Type 1\", \"HP\", \"Attack\", \"Sp. Atk\", \"Sp. Def\", and \"Speed\" [[]] - sending want just those columns\n",
    "sel_poke_df = poke_df[[\"Type 1\", \"HP\", \"Attack\", \"Sp. Atk\", \"Sp. Def\", \"Speed\"]]"
   ]
  },
  {
   "cell_type": "code",
   "execution_count": 17,
   "metadata": {
    "collapsed": true
   },
   "outputs": [
    {
     "output_type": "execute_result",
     "data": {
      "text/plain": [
       "                 HP      Attack    Sp. Atk    Sp. Def       Speed\n",
       "Type 1                                                           \n",
       "Bug       56.884058   70.971014  53.869565  64.797101   61.681159\n",
       "Dark      66.806452   88.387097  74.645161  69.516129   76.161290\n",
       "Dragon    83.312500  112.125000  96.843750  88.843750   83.031250\n",
       "Electric  59.795455   69.090909  90.022727  73.704545   84.500000\n",
       "Fairy     74.117647   61.529412  78.529412  84.705882   48.588235\n",
       "Fighting  69.851852   96.777778  53.111111  64.703704   66.074074\n",
       "Fire      69.903846   84.769231  88.980769  72.211538   74.442308\n",
       "Flying    70.750000   78.750000  94.250000  72.500000  102.500000\n",
       "Ghost     64.437500   73.781250  79.343750  76.468750   64.343750\n",
       "Grass     67.271429   73.214286  77.500000  70.428571   61.928571\n",
       "Ground    73.781250   95.750000  56.468750  62.750000   63.906250\n",
       "Ice       72.000000   72.750000  77.541667  76.291667   63.458333\n",
       "Normal    77.275510   73.469388  55.816327  63.724490   71.551020\n",
       "Poison    67.250000   74.678571  60.428571  64.392857   63.571429\n",
       "Psychic   70.631579   71.456140  98.403509  86.280702   81.491228\n",
       "Rock      65.363636   92.863636  63.340909  75.477273   55.909091\n",
       "Steel     65.222222   92.703704  67.518519  80.629630   55.259259\n",
       "Water     72.062500   74.151786  74.812500  70.517857   65.964286"
      ],
      "text/html": "<div>\n<style scoped>\n    .dataframe tbody tr th:only-of-type {\n        vertical-align: middle;\n    }\n\n    .dataframe tbody tr th {\n        vertical-align: top;\n    }\n\n    .dataframe thead th {\n        text-align: right;\n    }\n</style>\n<table border=\"1\" class=\"dataframe\">\n  <thead>\n    <tr style=\"text-align: right;\">\n      <th></th>\n      <th>HP</th>\n      <th>Attack</th>\n      <th>Sp. Atk</th>\n      <th>Sp. Def</th>\n      <th>Speed</th>\n    </tr>\n    <tr>\n      <th>Type 1</th>\n      <th></th>\n      <th></th>\n      <th></th>\n      <th></th>\n      <th></th>\n    </tr>\n  </thead>\n  <tbody>\n    <tr>\n      <th>Bug</th>\n      <td>56.884058</td>\n      <td>70.971014</td>\n      <td>53.869565</td>\n      <td>64.797101</td>\n      <td>61.681159</td>\n    </tr>\n    <tr>\n      <th>Dark</th>\n      <td>66.806452</td>\n      <td>88.387097</td>\n      <td>74.645161</td>\n      <td>69.516129</td>\n      <td>76.161290</td>\n    </tr>\n    <tr>\n      <th>Dragon</th>\n      <td>83.312500</td>\n      <td>112.125000</td>\n      <td>96.843750</td>\n      <td>88.843750</td>\n      <td>83.031250</td>\n    </tr>\n    <tr>\n      <th>Electric</th>\n      <td>59.795455</td>\n      <td>69.090909</td>\n      <td>90.022727</td>\n      <td>73.704545</td>\n      <td>84.500000</td>\n    </tr>\n    <tr>\n      <th>Fairy</th>\n      <td>74.117647</td>\n      <td>61.529412</td>\n      <td>78.529412</td>\n      <td>84.705882</td>\n      <td>48.588235</td>\n    </tr>\n    <tr>\n      <th>Fighting</th>\n      <td>69.851852</td>\n      <td>96.777778</td>\n      <td>53.111111</td>\n      <td>64.703704</td>\n      <td>66.074074</td>\n    </tr>\n    <tr>\n      <th>Fire</th>\n      <td>69.903846</td>\n      <td>84.769231</td>\n      <td>88.980769</td>\n      <td>72.211538</td>\n      <td>74.442308</td>\n    </tr>\n    <tr>\n      <th>Flying</th>\n      <td>70.750000</td>\n      <td>78.750000</td>\n      <td>94.250000</td>\n      <td>72.500000</td>\n      <td>102.500000</td>\n    </tr>\n    <tr>\n      <th>Ghost</th>\n      <td>64.437500</td>\n      <td>73.781250</td>\n      <td>79.343750</td>\n      <td>76.468750</td>\n      <td>64.343750</td>\n    </tr>\n    <tr>\n      <th>Grass</th>\n      <td>67.271429</td>\n      <td>73.214286</td>\n      <td>77.500000</td>\n      <td>70.428571</td>\n      <td>61.928571</td>\n    </tr>\n    <tr>\n      <th>Ground</th>\n      <td>73.781250</td>\n      <td>95.750000</td>\n      <td>56.468750</td>\n      <td>62.750000</td>\n      <td>63.906250</td>\n    </tr>\n    <tr>\n      <th>Ice</th>\n      <td>72.000000</td>\n      <td>72.750000</td>\n      <td>77.541667</td>\n      <td>76.291667</td>\n      <td>63.458333</td>\n    </tr>\n    <tr>\n      <th>Normal</th>\n      <td>77.275510</td>\n      <td>73.469388</td>\n      <td>55.816327</td>\n      <td>63.724490</td>\n      <td>71.551020</td>\n    </tr>\n    <tr>\n      <th>Poison</th>\n      <td>67.250000</td>\n      <td>74.678571</td>\n      <td>60.428571</td>\n      <td>64.392857</td>\n      <td>63.571429</td>\n    </tr>\n    <tr>\n      <th>Psychic</th>\n      <td>70.631579</td>\n      <td>71.456140</td>\n      <td>98.403509</td>\n      <td>86.280702</td>\n      <td>81.491228</td>\n    </tr>\n    <tr>\n      <th>Rock</th>\n      <td>65.363636</td>\n      <td>92.863636</td>\n      <td>63.340909</td>\n      <td>75.477273</td>\n      <td>55.909091</td>\n    </tr>\n    <tr>\n      <th>Steel</th>\n      <td>65.222222</td>\n      <td>92.703704</td>\n      <td>67.518519</td>\n      <td>80.629630</td>\n      <td>55.259259</td>\n    </tr>\n    <tr>\n      <th>Water</th>\n      <td>72.062500</td>\n      <td>74.151786</td>\n      <td>74.812500</td>\n      <td>70.517857</td>\n      <td>65.964286</td>\n    </tr>\n  </tbody>\n</table>\n</div>"
     },
     "metadata": {},
     "execution_count": 17
    }
   ],
   "source": [
    "# Create a dataframe of the average stats for each type of pokemon.\n",
    "stat_poke_df = sel_poke_df.groupby([\"Type 1\"]) \n",
    "avg_stat_df = stat_poke_df.mean()\n",
    "avg_stat_df\n"
   ]
  },
  {
   "cell_type": "code",
   "execution_count": 22,
   "metadata": {
    "collapsed": true
   },
   "outputs": [
    {
     "output_type": "execute_result",
     "data": {
      "text/plain": [
       "Type 1\n",
       "Bug         308.202899\n",
       "Dark        375.516129\n",
       "Dragon      464.156250\n",
       "Electric    377.113636\n",
       "Fairy       347.470588\n",
       "Fighting    350.518519\n",
       "Fire        390.307692\n",
       "Flying      418.750000\n",
       "Ghost       358.375000\n",
       "Grass       350.342857\n",
       "Ground      352.656250\n",
       "Ice         362.041667\n",
       "Normal      341.836735\n",
       "Poison      330.321429\n",
       "Psychic     408.263158\n",
       "Rock        352.954545\n",
       "Steel       361.333333\n",
       "Water       357.508929\n",
       "dtype: float64"
      ]
     },
     "metadata": {},
     "execution_count": 22
    }
   ],
   "source": [
    "# Calculate the total power level of each type of pokemon by summing all of the stats together.\n",
    "#tricky bc adding accross, not down axis=1 adds accross, axis=0  adds down \n",
    "avg_stat_df.sum(axis=1)\n",
    "# Place the results into a new column.\n",
    "sum_stat_df= avg_stat_df.sum(axis=1)\n",
    "sum_stat_df\n",
    "# Hint: Research the sum method from pandas.\n"
   ]
  },
  {
   "cell_type": "code",
   "execution_count": 29,
   "metadata": {
    "collapsed": true
   },
   "outputs": [
    {
     "output_type": "error",
     "ename": "TypeError",
     "evalue": "unhashable type: 'list'",
     "traceback": [
      "\u001b[0;31m---------------------------------------------------------------------------\u001b[0m",
      "\u001b[0;31mTypeError\u001b[0m                                 Traceback (most recent call last)",
      "\u001b[0;32m<ipython-input-29-f3c931133c08>\u001b[0m in \u001b[0;36m<module>\u001b[0;34m\u001b[0m\n\u001b[1;32m      1\u001b[0m \u001b[0;31m# Bonus: Sort the table by strongest type and export the resulting table to a new CSV.\u001b[0m\u001b[0;34m\u001b[0m\u001b[0;34m\u001b[0m\u001b[0;34m\u001b[0m\u001b[0m\n\u001b[0;32m----> 2\u001b[0;31m \u001b[0mstrong_df\u001b[0m\u001b[0;34m=\u001b[0m \u001b[0msum_stat_df\u001b[0m\u001b[0;34m.\u001b[0m\u001b[0msort_values\u001b[0m\u001b[0;34m(\u001b[0m\u001b[0;34m[\u001b[0m\u001b[0;34m\"sum_stat_df\"\u001b[0m\u001b[0;34m]\u001b[0m\u001b[0;34m,\u001b[0m \u001b[0mascending\u001b[0m\u001b[0;34m=\u001b[0m\u001b[0;32mFalse\u001b[0m\u001b[0;34m)\u001b[0m\u001b[0;34m\u001b[0m\u001b[0;34m\u001b[0m\u001b[0m\n\u001b[0m\u001b[1;32m      3\u001b[0m \u001b[0mstrong_df\u001b[0m\u001b[0;34m.\u001b[0m\u001b[0mto_csv\u001b[0m\u001b[0;34m(\u001b[0m\u001b[0;34m\"output/poke_rank.csv\"\u001b[0m\u001b[0;34m,\u001b[0m \u001b[0mindex\u001b[0m\u001b[0;34m=\u001b[0m\u001b[0;32mTrue\u001b[0m\u001b[0;34m)\u001b[0m\u001b[0;34m\u001b[0m\u001b[0;34m\u001b[0m\u001b[0m\n",
      "\u001b[0;32m~/opt/anaconda3/envs/Bootcamp/lib/python3.8/site-packages/pandas/core/series.py\u001b[0m in \u001b[0;36msort_values\u001b[0;34m(self, axis, ascending, inplace, kind, na_position, ignore_index)\u001b[0m\n\u001b[1;32m   2933\u001b[0m         \u001b[0minplace\u001b[0m \u001b[0;34m=\u001b[0m \u001b[0mvalidate_bool_kwarg\u001b[0m\u001b[0;34m(\u001b[0m\u001b[0minplace\u001b[0m\u001b[0;34m,\u001b[0m \u001b[0;34m\"inplace\"\u001b[0m\u001b[0;34m)\u001b[0m\u001b[0;34m\u001b[0m\u001b[0;34m\u001b[0m\u001b[0m\n\u001b[1;32m   2934\u001b[0m         \u001b[0;31m# Validate the axis parameter\u001b[0m\u001b[0;34m\u001b[0m\u001b[0;34m\u001b[0m\u001b[0;34m\u001b[0m\u001b[0m\n\u001b[0;32m-> 2935\u001b[0;31m         \u001b[0mself\u001b[0m\u001b[0;34m.\u001b[0m\u001b[0m_get_axis_number\u001b[0m\u001b[0;34m(\u001b[0m\u001b[0maxis\u001b[0m\u001b[0;34m)\u001b[0m\u001b[0;34m\u001b[0m\u001b[0;34m\u001b[0m\u001b[0m\n\u001b[0m\u001b[1;32m   2936\u001b[0m \u001b[0;34m\u001b[0m\u001b[0m\n\u001b[1;32m   2937\u001b[0m         \u001b[0;31m# GH 5856/5853\u001b[0m\u001b[0;34m\u001b[0m\u001b[0;34m\u001b[0m\u001b[0;34m\u001b[0m\u001b[0m\n",
      "\u001b[0;32m~/opt/anaconda3/envs/Bootcamp/lib/python3.8/site-packages/pandas/core/generic.py\u001b[0m in \u001b[0;36m_get_axis_number\u001b[0;34m(cls, axis)\u001b[0m\n\u001b[1;32m    396\u001b[0m     \u001b[0;34m@\u001b[0m\u001b[0mclassmethod\u001b[0m\u001b[0;34m\u001b[0m\u001b[0;34m\u001b[0m\u001b[0m\n\u001b[1;32m    397\u001b[0m     \u001b[0;32mdef\u001b[0m \u001b[0m_get_axis_number\u001b[0m\u001b[0;34m(\u001b[0m\u001b[0mcls\u001b[0m\u001b[0;34m,\u001b[0m \u001b[0maxis\u001b[0m\u001b[0;34m)\u001b[0m\u001b[0;34m:\u001b[0m\u001b[0;34m\u001b[0m\u001b[0;34m\u001b[0m\u001b[0m\n\u001b[0;32m--> 398\u001b[0;31m         \u001b[0maxis\u001b[0m \u001b[0;34m=\u001b[0m \u001b[0mcls\u001b[0m\u001b[0;34m.\u001b[0m\u001b[0m_AXIS_ALIASES\u001b[0m\u001b[0;34m.\u001b[0m\u001b[0mget\u001b[0m\u001b[0;34m(\u001b[0m\u001b[0maxis\u001b[0m\u001b[0;34m,\u001b[0m \u001b[0maxis\u001b[0m\u001b[0;34m)\u001b[0m\u001b[0;34m\u001b[0m\u001b[0;34m\u001b[0m\u001b[0m\n\u001b[0m\u001b[1;32m    399\u001b[0m         \u001b[0;32mif\u001b[0m \u001b[0mis_integer\u001b[0m\u001b[0;34m(\u001b[0m\u001b[0maxis\u001b[0m\u001b[0;34m)\u001b[0m\u001b[0;34m:\u001b[0m\u001b[0;34m\u001b[0m\u001b[0;34m\u001b[0m\u001b[0m\n\u001b[1;32m    400\u001b[0m             \u001b[0;32mif\u001b[0m \u001b[0maxis\u001b[0m \u001b[0;32min\u001b[0m \u001b[0mcls\u001b[0m\u001b[0;34m.\u001b[0m\u001b[0m_AXIS_NAMES\u001b[0m\u001b[0;34m:\u001b[0m\u001b[0;34m\u001b[0m\u001b[0;34m\u001b[0m\u001b[0m\n",
      "\u001b[0;31mTypeError\u001b[0m: unhashable type: 'list'"
     ]
    }
   ],
   "source": [
    "# Bonus: Sort the table by strongest type and export the resulting table to a new CSV.\n",
    "strong_df= sum_stat_df.sort_values([\"sum_stat_df\"], ascending=False)\n",
    "strong_df.to_csv(\"output/poke_rank.csv\", index=True)"
   ]
  },
  {
   "cell_type": "code",
   "execution_count": null,
   "metadata": {},
   "outputs": [],
   "source": []
  }
 ],
 "metadata": {
  "anaconda-cloud": {},
  "kernelspec": {
   "name": "Python 3.8.3 64-bit ('Bootcamp': conda)",
   "display_name": "Python 3.8.3 64-bit ('Bootcamp': conda)",
   "metadata": {
    "interpreter": {
     "hash": "1f55f178934b33d8fd4c35325f93e3c8960b63d27460bcc87dcff5b8d4ee2948"
    }
   }
  },
  "language_info": {
   "codemirror_mode": {
    "name": "ipython",
    "version": 3
   },
   "file_extension": ".py",
   "mimetype": "text/x-python",
   "name": "python",
   "nbconvert_exporter": "python",
   "pygments_lexer": "ipython3",
   "version": "3.8.3-final"
  }
 },
 "nbformat": 4,
 "nbformat_minor": 2
}